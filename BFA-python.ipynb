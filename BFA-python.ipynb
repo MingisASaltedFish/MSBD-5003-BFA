{
 "cells": [
  {
   "cell_type": "code",
   "execution_count": 1,
   "id": "1c040618",
   "metadata": {},
   "outputs": [
    {
     "name": "stdout",
     "output_type": "stream",
     "text": [
      "{'a': 0, 'b': -1, 'c': 1, 'd': -2, 'e': 1}\n",
      "{'a': None, 'b': 'a', 'c': 'b', 'd': 'e', 'e': 'b'}\n",
      "{'a': 0, 'b': -1, 'c': 1, 'd': -4, 'e': 1}\n",
      "{'a': None, 'b': 'a', 'c': 'b', 'd': 'c', 'e': 'b'}\n"
     ]
    }
   ],
   "source": [
    "def bellman_ford(graph, source):\n",
    "    dist = {}\n",
    "    p = {}\n",
    "    max = 10000\n",
    "    for v in graph:\n",
    "        dist[v] = max  #赋值为负无穷完成初始化\n",
    "        p[v] = None\n",
    "    dist[source] = 0\n",
    " \n",
    "    for i in range(len( graph ) - 1):\n",
    "        for u in graph:\n",
    "            for v in graph[u]:\n",
    "                if dist[v] > graph[u][v] + dist[u]:\n",
    "                    dist[v] = graph[u][v] + dist[u]\n",
    "                    p[v] = u    #完成松弛操作，p为前驱节点\n",
    " \n",
    "    for u in graph:\n",
    "        for v in graph[u]:\n",
    "            if dist[v] > dist[u] + graph[u][v]:\n",
    "                return None, None  #判断是否存在环路\n",
    " \n",
    "    return dist, p\n",
    " \n",
    "def test():\n",
    "    graph = {\n",
    "        'a': {'b': -1, 'c':  4},\n",
    "        'b': {'c':  2, 'd':  3, 'e':  2},\n",
    "        'c': {},\n",
    "        'd': {'b':  3, 'c':  5},\n",
    "        'e': {'d': -3}\n",
    "    }\n",
    "    dist, p = bellman_ford(graph, 'a')\n",
    "    print(dist)\n",
    "    print(p)\n",
    "def testfail():\n",
    "    graph = {\n",
    "        'a': {'b': -1, 'c':  4},\n",
    "        'b': {'c':  2, 'd':  3, 'e':  2},\n",
    "        'c': {'d': -5},\n",
    "        'd': {'b':  3},\n",
    "        'e': {'d': -3}\n",
    "    }\n",
    "    dist, p = bellman_ford(graph, 'a')\n",
    "    print(dist)\n",
    "    print(p)\n",
    " \n",
    "test()\n",
    "testfail()"
   ]
  },
  {
   "cell_type": "code",
   "execution_count": null,
   "id": "1a0ab0c4",
   "metadata": {},
   "outputs": [],
   "source": []
  }
 ],
 "metadata": {
  "kernelspec": {
   "display_name": "Python 3 (ipykernel)",
   "language": "python",
   "name": "python3"
  },
  "language_info": {
   "codemirror_mode": {
    "name": "ipython",
    "version": 3
   },
   "file_extension": ".py",
   "mimetype": "text/x-python",
   "name": "python",
   "nbconvert_exporter": "python",
   "pygments_lexer": "ipython3",
   "version": "3.9.13"
  }
 },
 "nbformat": 4,
 "nbformat_minor": 5
}
